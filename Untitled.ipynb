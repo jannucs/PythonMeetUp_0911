{
 "cells": [
  {
   "cell_type": "code",
   "execution_count": 3,
   "metadata": {},
   "outputs": [
    {
     "name": "stdout",
     "output_type": "stream",
     "text": [
      "Number is less than or equal 10\n"
     ]
    }
   ],
   "source": [
    "num=10\n",
    "if(num<=10):\n",
    "    print(\"Number is less than or equal 10\")\n",
    "else:\n",
    "    print(\"Number is greater than 10\")"
   ]
  },
  {
   "cell_type": "code",
   "execution_count": 4,
   "metadata": {},
   "outputs": [],
   "source": [
    "a=\"Greater\" if num>5 else \"Smaller\""
   ]
  },
  {
   "cell_type": "code",
   "execution_count": 5,
   "metadata": {},
   "outputs": [
    {
     "data": {
      "text/plain": [
       "'Greater'"
      ]
     },
     "execution_count": 5,
     "metadata": {},
     "output_type": "execute_result"
    }
   ],
   "source": [
    "a"
   ]
  },
  {
   "cell_type": "code",
   "execution_count": 18,
   "metadata": {},
   "outputs": [],
   "source": [
    "l1=list(range(30,60,2))"
   ]
  },
  {
   "cell_type": "code",
   "execution_count": 19,
   "metadata": {},
   "outputs": [
    {
     "name": "stdout",
     "output_type": "stream",
     "text": [
      "0 30\n",
      "1 32\n",
      "2 34\n",
      "3 36\n",
      "4 38\n",
      "5 40\n",
      "6 42\n",
      "7 44\n",
      "8 46\n",
      "9 48\n",
      "10 50\n",
      "11 52\n",
      "12 54\n",
      "13 56\n",
      "14 58\n"
     ]
    }
   ],
   "source": [
    "index=0\n",
    "for i in l1:\n",
    "    print(index,i)\n",
    "    index+=1"
   ]
  },
  {
   "cell_type": "code",
   "execution_count": 25,
   "metadata": {},
   "outputs": [
    {
     "name": "stdout",
     "output_type": "stream",
     "text": [
      "0 30\n",
      "1 32\n",
      "2 34\n",
      "3 36\n",
      "4 38\n",
      "5 40\n",
      "6 42\n",
      "7 44\n",
      "8 46\n",
      "9 48\n",
      "10 50\n",
      "11 52\n",
      "12 54\n",
      "13 56\n",
      "14 58\n"
     ]
    }
   ],
   "source": [
    "for index,i in enumerate(l1):\n",
    "    print(index,i)\n",
    "    a=i"
   ]
  },
  {
   "cell_type": "code",
   "execution_count": 26,
   "metadata": {},
   "outputs": [
    {
     "data": {
      "text/plain": [
       "58"
      ]
     },
     "execution_count": 26,
     "metadata": {},
     "output_type": "execute_result"
    }
   ],
   "source": [
    "a"
   ]
  },
  {
   "cell_type": "code",
   "execution_count": 27,
   "metadata": {},
   "outputs": [
    {
     "data": {
      "text/plain": [
       "True"
      ]
     },
     "execution_count": 27,
     "metadata": {},
     "output_type": "execute_result"
    }
   ],
   "source": [
    "36 in l1"
   ]
  },
  {
   "cell_type": "code",
   "execution_count": 28,
   "metadata": {},
   "outputs": [
    {
     "data": {
      "text/plain": [
       "False"
      ]
     },
     "execution_count": 28,
     "metadata": {},
     "output_type": "execute_result"
    }
   ],
   "source": [
    "37 in l1"
   ]
  },
  {
   "cell_type": "code",
   "execution_count": 36,
   "metadata": {},
   "outputs": [],
   "source": [
    "list1=list(range(30,60,2))"
   ]
  },
  {
   "cell_type": "code",
   "execution_count": 37,
   "metadata": {},
   "outputs": [
    {
     "data": {
      "text/plain": [
       "[30, 32, 34, 36, 38, 40, 42, 44, 46, 48, 50, 52, 54, 56, 58]"
      ]
     },
     "execution_count": 37,
     "metadata": {},
     "output_type": "execute_result"
    }
   ],
   "source": [
    "list1"
   ]
  },
  {
   "cell_type": "code",
   "execution_count": 39,
   "metadata": {},
   "outputs": [
    {
     "name": "stdout",
     "output_type": "stream",
     "text": [
      "Number is multiple of 3\n",
      " 0 30\n",
      "Number is not a multiple of 3 1 32\n",
      "Number is not a multiple of 3 2 34\n",
      "Number is multiple of 3\n",
      " 3 36\n",
      "Number is not a multiple of 3 4 38\n",
      "Number is not a multiple of 3 5 40\n",
      "Number is multiple of 3\n",
      " 6 42\n",
      "Number is not a multiple of 3 7 44\n",
      "Number is not a multiple of 3 8 46\n",
      "Number is multiple of 3\n",
      " 9 48\n",
      "Number is not a multiple of 3 10 50\n",
      "Number is not a multiple of 3 11 52\n",
      "Number is multiple of 3\n",
      " 12 54\n",
      "Number is not a multiple of 3 13 56\n",
      "Number is not a multiple of 3 14 58\n"
     ]
    }
   ],
   "source": [
    "for index,i in enumerate(list1):\n",
    "    if(i%3==0):\n",
    "        print(\"Number is multiple of 3\\n\",index,i)\n",
    "    else:\n",
    "        print(\"Number is not a multiple of 3\",index,i)"
   ]
  },
  {
   "cell_type": "code",
   "execution_count": null,
   "metadata": {},
   "outputs": [],
   "source": []
  }
 ],
 "metadata": {
  "kernelspec": {
   "display_name": "Python 3",
   "language": "python",
   "name": "python3"
  },
  "language_info": {
   "codemirror_mode": {
    "name": "ipython",
    "version": 3
   },
   "file_extension": ".py",
   "mimetype": "text/x-python",
   "name": "python",
   "nbconvert_exporter": "python",
   "pygments_lexer": "ipython3",
   "version": "3.7.4"
  }
 },
 "nbformat": 4,
 "nbformat_minor": 2
}
